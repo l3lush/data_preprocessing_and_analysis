{
 "cells": [
  {
   "cell_type": "markdown",
   "id": "b62396f1",
   "metadata": {},
   "source": [
    "# 1. Решаем задачу классификации"
   ]
  },
  {
   "cell_type": "code",
   "execution_count": null,
   "id": "3131d7a4",
   "metadata": {},
   "outputs": [],
   "source": [
    "import pandas as pd\n",
    "\n",
    "\n",
    "DATA_URL = \"https://gist.githubusercontent.com/armgilles/194bcff35001e7eb53a2a8b441e8b2c6/raw/92200bc0a673d5ce2110aaad4544ed6c4010f687/pokemon.csv\"\n",
    "data = pd.read_csv(DATA_URL)"
   ]
  },
  {
   "cell_type": "code",
   "execution_count": null,
   "id": "9bb14c1f",
   "metadata": {},
   "outputs": [],
   "source": [
    "data.head()"
   ]
  },
  {
   "cell_type": "markdown",
   "id": "0b10d1c8",
   "metadata": {},
   "source": [
    "### Задание:\n",
    "1. Сделать препроцессинг данных\n",
    "2. Попробовать разные модели машинного обучения"
   ]
  },
  {
   "cell_type": "markdown",
   "id": "6b11331c",
   "metadata": {},
   "source": [
    "### Препроцессинг"
   ]
  },
  {
   "cell_type": "code",
   "execution_count": null,
   "id": "33a5ec57",
   "metadata": {},
   "outputs": [],
   "source": [
    "# TODO: preprocessing"
   ]
  },
  {
   "cell_type": "markdown",
   "id": "bc0ed65d",
   "metadata": {},
   "source": [
    "### Метрики качества"
   ]
  },
  {
   "cell_type": "markdown",
   "id": "05060225",
   "metadata": {},
   "source": [
    "Confusion Matrix\n",
    "![](https://plat.ai/wp-content/uploads/Table1-2.png.webp)"
   ]
  },
  {
   "cell_type": "markdown",
   "id": "3482ee89",
   "metadata": {},
   "source": [
    "![](https://www.fticonsulting.com/insights/articles/-/media/ec68c768d8314ee9bd1d00109c2b603c.ashx)"
   ]
  },
  {
   "cell_type": "markdown",
   "id": "1bbaa4a8",
   "metadata": {},
   "source": [
    "![](https://developers.google.com/static/machine-learning/crash-course/images/AUCPredictionsRanked.svg)"
   ]
  },
  {
   "cell_type": "markdown",
   "id": "db6e9cc7",
   "metadata": {},
   "source": [
    "![](data:image/png;base64,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)"
   ]
  },
  {
   "cell_type": "markdown",
   "id": "911af8c8",
   "metadata": {},
   "source": [
    "![](https://www.codecamp.ru/content/images/2021/08/read_roc2.png)"
   ]
  },
  {
   "cell_type": "markdown",
   "id": "4e331464",
   "metadata": {},
   "source": [
    "### Моделирование"
   ]
  },
  {
   "cell_type": "markdown",
   "id": "4d6ebeba",
   "metadata": {},
   "source": [
    "#### Логистическая регрессия\n",
    "![](https://www.saedsayad.com/images/LogReg_1.png)\n",
    "Функция потерь:\n",
    "![](data:image/png;base64,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)"
   ]
  },
  {
   "cell_type": "code",
   "execution_count": null,
   "id": "30dce6e9",
   "metadata": {},
   "outputs": [],
   "source": [
    "from sklearn.linear_model import LogisticRegression\n",
    "\n",
    "# TODO: write me"
   ]
  },
  {
   "cell_type": "markdown",
   "id": "0237345c",
   "metadata": {},
   "source": [
    "#### Наивный байесовский классификатор"
   ]
  },
  {
   "cell_type": "markdown",
   "id": "c2af2e9a",
   "metadata": {},
   "source": [
    "![](https://www.saedsayad.com/images/Bayes_rule.png)"
   ]
  },
  {
   "cell_type": "code",
   "execution_count": null,
   "id": "b9788d2c",
   "metadata": {},
   "outputs": [],
   "source": [
    "from sklearn.naive_bayes import GaussianNB\n",
    "\n",
    "# TODO: write me"
   ]
  },
  {
   "cell_type": "markdown",
   "id": "276af044",
   "metadata": {},
   "source": [
    "#### k-ближайших соседей"
   ]
  },
  {
   "cell_type": "markdown",
   "id": "4616fd85",
   "metadata": {},
   "source": [
    "![](https://www.ibm.com/content/dam/connectedassets-adobe-cms/worldwide-content/cdp/cf/ul/g/ef/3a/KNN.component.xl.ts=1653407890466.png/content/adobe-cms/us/en/topics/knn/jcr:content/root/table_of_contents/intro/complex_narrative/items/content_group/image)"
   ]
  },
  {
   "cell_type": "code",
   "execution_count": null,
   "id": "ef4f4831",
   "metadata": {},
   "outputs": [],
   "source": [
    "from sklearn.neighbors import KNeighborsClassifier\n",
    "\n",
    "# TODO: write me"
   ]
  },
  {
   "cell_type": "markdown",
   "id": "3cbe8883",
   "metadata": {},
   "source": [
    "#### Деревья решений"
   ]
  },
  {
   "cell_type": "markdown",
   "id": "718362d7",
   "metadata": {},
   "source": [
    "![](https://regenerativetoday.com/wp-content/uploads/2022/04/dt.png)"
   ]
  },
  {
   "cell_type": "markdown",
   "id": "6aa05ac0",
   "metadata": {},
   "source": [
    "![](https://i.pinimg.com/originals/91/d3/31/91d3314ae9bc6525ed709b08c0214255.png)"
   ]
  },
  {
   "cell_type": "markdown",
   "id": "2dff0103",
   "metadata": {},
   "source": [
    "![](https://www.researchgate.net/publication/347070799/figure/fig1/AS:970120969068545@1608306271088/Example-of-a-supervised-machine-learning-algorithm-a-decision-tree-Decision-trees-come.png)"
   ]
  },
  {
   "cell_type": "code",
   "execution_count": null,
   "id": "329349cd",
   "metadata": {},
   "outputs": [],
   "source": [
    "from sklearn.tree import DecisionTreeClassifier\n",
    "\n",
    "# TODO: write me"
   ]
  },
  {
   "cell_type": "markdown",
   "id": "662c76fc",
   "metadata": {},
   "source": [
    "#### Метод опорных векторов\n",
    "![](https://www.saedsayad.com/images/SVM_optimize_3.png)"
   ]
  },
  {
   "cell_type": "markdown",
   "id": "c807eb31",
   "metadata": {},
   "source": [
    "![](https://blog-c7ff.kxcdn.com/blog/wp-content/uploads/2017/02/Margin.png)"
   ]
  },
  {
   "cell_type": "code",
   "execution_count": null,
   "id": "9d2c1915",
   "metadata": {},
   "outputs": [],
   "source": [
    "from sklearn.svm import SVC\n",
    "\n",
    "# TODO: write me"
   ]
  },
  {
   "cell_type": "markdown",
   "id": "7b8457c7",
   "metadata": {},
   "source": [
    "# 2. Решаем задачу регрессии"
   ]
  },
  {
   "cell_type": "code",
   "execution_count": null,
   "id": "8bb3fc3a",
   "metadata": {},
   "outputs": [],
   "source": [
    "DATA_URL = \"https://raw.githubusercontent.com/Yeshi341/Student_Alcohol_Consumption/master/data/student-por.csv\"\n",
    "data = pd.read_csv(DATA_URL)"
   ]
  },
  {
   "cell_type": "code",
   "execution_count": null,
   "id": "b4019347",
   "metadata": {},
   "outputs": [],
   "source": [
    "data  # target - Dalc, Walc"
   ]
  },
  {
   "cell_type": "markdown",
   "id": "fb28299f",
   "metadata": {},
   "source": [
    "### Задание:\n",
    "1. Сделать препроцессинг данных\n",
    "2. Попробовать разные модели машинного обучения"
   ]
  },
  {
   "cell_type": "markdown",
   "id": "27f8219a",
   "metadata": {},
   "source": [
    "### Препроцессинг"
   ]
  },
  {
   "cell_type": "code",
   "execution_count": null,
   "id": "16848ea0",
   "metadata": {},
   "outputs": [],
   "source": [
    "# TODO: preprocessing"
   ]
  },
  {
   "cell_type": "markdown",
   "id": "0e72bee2",
   "metadata": {},
   "source": [
    "### Метрики качества"
   ]
  },
  {
   "cell_type": "markdown",
   "id": "d7db1f35",
   "metadata": {},
   "source": [
    "![](https://jonathan-sands.com/images/regression_metrics.png)"
   ]
  },
  {
   "cell_type": "markdown",
   "id": "b84373d7",
   "metadata": {},
   "source": [
    "![](https://www.freecodecamp.org/news/content/images/2022/08/image.png)"
   ]
  },
  {
   "cell_type": "markdown",
   "id": "c8ad3e9f",
   "metadata": {},
   "source": [
    "### Моделирование"
   ]
  },
  {
   "cell_type": "code",
   "execution_count": null,
   "id": "a7a3f674",
   "metadata": {},
   "outputs": [],
   "source": []
  },
  {
   "cell_type": "code",
   "execution_count": null,
   "id": "f7ee9dc8",
   "metadata": {},
   "outputs": [],
   "source": []
  },
  {
   "cell_type": "code",
   "execution_count": null,
   "id": "1917af4a",
   "metadata": {},
   "outputs": [],
   "source": []
  }
 ],
 "metadata": {
  "kernelspec": {
   "display_name": "Python 3 (ipykernel)",
   "language": "python",
   "name": "python3"
  },
  "language_info": {
   "codemirror_mode": {
    "name": "ipython",
    "version": 3
   },
   "file_extension": ".py",
   "mimetype": "text/x-python",
   "name": "python",
   "nbconvert_exporter": "python",
   "pygments_lexer": "ipython3",
   "version": "3.9.13"
  }
 },
 "nbformat": 4,
 "nbformat_minor": 5
}
