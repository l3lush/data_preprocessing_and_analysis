{
 "cells": [
  {
   "cell_type": "markdown",
   "id": "409fc981",
   "metadata": {},
   "source": [
    "# 1. Классификация задач машинного и глубокого обучения"
   ]
  },
  {
   "cell_type": "markdown",
   "id": "8ca567fe",
   "metadata": {},
   "source": [
    "![](https://assets-global.website-files.com/5d7b77b063a9066d83e1209c/6158dd5a5c04109f63363e0a_67KbBrP_mJMkcaOsEOlrk5eedzXJolEg5wkJX8nQLiarNAClBP0q5XncPyQM7jyoGKUGsc_onAJnBkVDfEkKVWIFNuZYZmaWq1hkP1fIQwX4nQMoDulaNYCkJvVgHr6IZOYdc5rv%3Ds0.png)"
   ]
  },
  {
   "cell_type": "markdown",
   "id": "5d3f8980",
   "metadata": {},
   "source": [
    "# Supervised Learning (Обучение с учителем)"
   ]
  },
  {
   "cell_type": "markdown",
   "id": "d8fc5b9c",
   "metadata": {},
   "source": [
    "![](https://miro.medium.com/v2/resize:fit:1400/1*ASYpFfDh7XnreU-ygqXonw.png)"
   ]
  },
  {
   "cell_type": "markdown",
   "id": "8d76e7d8",
   "metadata": {},
   "source": [
    "## Пример классификации"
   ]
  },
  {
   "cell_type": "code",
   "execution_count": null,
   "id": "1678e64e",
   "metadata": {},
   "outputs": [],
   "source": [
    "import pandas as pd\n",
    "from sklearn.datasets import fetch_openml\n",
    "\n",
    "\n",
    "name_of_dataset = \"SpeedDating\"\n",
    "data = fetch_openml(name=name_of_dataset, version=1)"
   ]
  },
  {
   "cell_type": "code",
   "execution_count": null,
   "id": "1a90b9b9",
   "metadata": {},
   "outputs": [],
   "source": [
    "print(data.DESCR)"
   ]
  },
  {
   "cell_type": "code",
   "execution_count": null,
   "id": "c072f8be",
   "metadata": {},
   "outputs": [],
   "source": [
    "data.data.head()"
   ]
  },
  {
   "cell_type": "code",
   "execution_count": null,
   "id": "f1348f97",
   "metadata": {},
   "outputs": [],
   "source": [
    "data.target.hist();"
   ]
  },
  {
   "cell_type": "markdown",
   "id": "88daee89",
   "metadata": {},
   "source": [
    "## Пример регрессии"
   ]
  },
  {
   "cell_type": "code",
   "execution_count": null,
   "id": "237b211d",
   "metadata": {},
   "outputs": [],
   "source": [
    "data_url = \"https://raw.githubusercontent.com/Pratik-Bhujade/Diamond-Dataset/master/DiamondData.csv\"\n",
    "data = pd.read_csv(data_url)"
   ]
  },
  {
   "cell_type": "markdown",
   "id": "f53facd0",
   "metadata": {},
   "source": [
    "[data description](https://www.kaggle.com/datasets/shivam2503/diamonds)"
   ]
  },
  {
   "cell_type": "code",
   "execution_count": null,
   "id": "cc77b100",
   "metadata": {},
   "outputs": [],
   "source": [
    "data[\"price\"].hist();"
   ]
  },
  {
   "cell_type": "markdown",
   "id": "82938c78",
   "metadata": {},
   "source": [
    "## Пример кластеризации"
   ]
  },
  {
   "cell_type": "code",
   "execution_count": null,
   "id": "c5213475",
   "metadata": {},
   "outputs": [],
   "source": [
    "data_url = \"https://raw.githubusercontent.com/kennedykwangari/Mall-Customer-Segmentation-Data/master/Mall_Customers.csv\"\n",
    "data = pd.read_csv(data_url)"
   ]
  },
  {
   "cell_type": "code",
   "execution_count": null,
   "id": "563f7538",
   "metadata": {},
   "outputs": [],
   "source": [
    "data.head()"
   ]
  },
  {
   "cell_type": "code",
   "execution_count": null,
   "id": "71cd3639",
   "metadata": {},
   "outputs": [],
   "source": [
    "data.drop(['CustomerID'], axis=1, inplace=True)\n",
    "data['Gender'] = data['Gender'].replace({\"Male\": 0, \"Female\": 1})"
   ]
  },
  {
   "cell_type": "code",
   "execution_count": null,
   "id": "e7f24d6f",
   "metadata": {},
   "outputs": [],
   "source": [
    "from sklearn.manifold import TSNE\n",
    "\n",
    "\n",
    "tsne = TSNE()\n",
    "data_tsne = tsne.fit_transform(data)"
   ]
  },
  {
   "cell_type": "code",
   "execution_count": null,
   "id": "3fa25115",
   "metadata": {},
   "outputs": [],
   "source": [
    "import matplotlib.pyplot as plt\n",
    "\n",
    "\n",
    "plt.scatter(data_tsne[:, 0], data_tsne[:, 1]);"
   ]
  },
  {
   "cell_type": "code",
   "execution_count": null,
   "id": "9926fbca",
   "metadata": {},
   "outputs": [],
   "source": [
    "from sklearn.cluster import KMeans\n",
    "\n",
    "\n",
    "kmeans = KMeans(n_clusters=3)\n",
    "kmeans.fit(data)\n",
    "y_pred = kmeans.predict(data)"
   ]
  },
  {
   "cell_type": "code",
   "execution_count": null,
   "id": "47f1108a",
   "metadata": {},
   "outputs": [],
   "source": [
    "import matplotlib.pyplot as plt\n",
    "\n",
    "\n",
    "plt.scatter(data_tsne[:, 0], data_tsne[:, 1], c=y_pred, s=30);"
   ]
  },
  {
   "cell_type": "markdown",
   "id": "3f34b970",
   "metadata": {},
   "source": [
    "# 2. Важные понятия в машинном обучении"
   ]
  },
  {
   "cell_type": "markdown",
   "id": "5090df29",
   "metadata": {},
   "source": [
    "## 2.1 Неодообучение, переобучение"
   ]
  },
  {
   "cell_type": "markdown",
   "id": "f2da2c85",
   "metadata": {},
   "source": [
    "![](https://docs.aws.amazon.com/images/machine-learning/latest/dg/images/mlconcepts_image5.png)"
   ]
  },
  {
   "cell_type": "code",
   "execution_count": null,
   "id": "0b94d644",
   "metadata": {},
   "outputs": [],
   "source": [
    "from sklearn.datasets import make_regression\n",
    "\n",
    "\n",
    "X, y = make_regression(n_samples=30, n_features=1, noise=5, random_state=17)\n",
    "plt.scatter(X, y);"
   ]
  },
  {
   "cell_type": "code",
   "execution_count": null,
   "id": "d8dc45f6",
   "metadata": {},
   "outputs": [],
   "source": [
    "from sklearn.linear_model import SGDRegressor\n",
    "\n",
    "\n",
    "estimator = SGDRegressor(max_iter=1)\n",
    "estimator.fit(X, y)\n",
    "y_pred = estimator.predict(X)\n",
    "\n",
    "plt.scatter(X, y, label='true')\n",
    "plt.scatter(X, y_pred, label='pred')\n",
    "plt.legend();"
   ]
  },
  {
   "cell_type": "code",
   "execution_count": null,
   "id": "ff8a3a5d",
   "metadata": {},
   "outputs": [],
   "source": [
    "estimator = SGDRegressor()\n",
    "estimator.fit(X, y)\n",
    "y_pred = estimator.predict(X)\n",
    "\n",
    "plt.scatter(X, y, label='true')\n",
    "plt.scatter(X, y_pred, label='pred')\n",
    "plt.legend();"
   ]
  },
  {
   "cell_type": "code",
   "execution_count": null,
   "id": "092067f3",
   "metadata": {},
   "outputs": [],
   "source": [
    "estimator.coef_"
   ]
  },
  {
   "cell_type": "code",
   "execution_count": null,
   "id": "ecfd539a",
   "metadata": {},
   "outputs": [],
   "source": [
    "from sklearn.preprocessing import PolynomialFeatures\n",
    "\n",
    "\n",
    "X_poly = PolynomialFeatures(degree=10).fit_transform(X)\n",
    "estimator = SGDRegressor()\n",
    "estimator.fit(X_poly, y)\n",
    "y_pred = estimator.predict(X_poly)\n",
    "\n",
    "plt.scatter(X, y, label='true')\n",
    "plt.scatter(X, y_pred, label='pred')\n",
    "plt.legend();"
   ]
  },
  {
   "cell_type": "code",
   "execution_count": null,
   "id": "43181c08",
   "metadata": {},
   "outputs": [],
   "source": [
    "import numpy as np\n",
    "\n",
    "\n",
    "X_sample = np.arange(-2, 1.5, step=0.01)\n",
    "X_poly = PolynomialFeatures(degree=10).fit_transform(X_sample.reshape(-1, 1))\n",
    "y_pred = estimator.predict(X_poly)\n",
    "plt.plot(y_pred, label='pred')\n",
    "plt.legend();"
   ]
  },
  {
   "cell_type": "code",
   "execution_count": null,
   "id": "78473779",
   "metadata": {},
   "outputs": [],
   "source": [
    "estimator.coef_"
   ]
  },
  {
   "cell_type": "markdown",
   "id": "bf4cd340",
   "metadata": {},
   "source": [
    "Большие веса означают переобучение модели"
   ]
  },
  {
   "cell_type": "markdown",
   "id": "2e101154",
   "metadata": {},
   "source": [
    "## 2.2 Как бороться с переобучением (overfitting) модели?"
   ]
  },
  {
   "cell_type": "markdown",
   "id": "e862a56f",
   "metadata": {},
   "source": [
    "### 2.2.1 Разделять выборку на тренировочную и тестовую"
   ]
  },
  {
   "cell_type": "markdown",
   "id": "0604f3ec",
   "metadata": {},
   "source": [
    "![](https://builtin.com/sites/www.builtin.com/files/styles/ckeditor_optimize/public/inline-images/4_train-test-split.jpg)"
   ]
  },
  {
   "cell_type": "code",
   "execution_count": null,
   "id": "b053f4b7",
   "metadata": {},
   "outputs": [],
   "source": [
    "from sklearn.model_selection import train_test_split\n",
    "\n",
    "\n",
    "X_train, X_test, y_train, y_test = train_test_split(X, y, test_size=0.2, random_state=17)"
   ]
  },
  {
   "cell_type": "markdown",
   "id": "57bc1de9",
   "metadata": {},
   "source": [
    "Обучаем модель на **тренировочной** выборке, смотрим метрики на **тестовой**"
   ]
  },
  {
   "cell_type": "code",
   "execution_count": null,
   "id": "430fe661",
   "metadata": {},
   "outputs": [],
   "source": [
    "from sklearn.metrics import mean_absolute_error\n",
    "\n",
    "\n",
    "estimator = SGDRegressor()\n",
    "estimator.fit(X_train, y_train)\n",
    "y_pred_test = estimator.predict(X_test)\n",
    "mae = mean_absolute_error(y_test, y_pred_test)\n",
    "print(f\"MAE = {mae:.2f}\")"
   ]
  },
  {
   "cell_type": "code",
   "execution_count": null,
   "id": "07357c80",
   "metadata": {},
   "outputs": [],
   "source": [
    "estimator = SGDRegressor()\n",
    "estimator.fit(PolynomialFeatures(degree=10).fit_transform(X_train), y_train)\n",
    "y_pred_test = estimator.predict(PolynomialFeatures(degree=10).fit_transform(X_test))\n",
    "mae = mean_absolute_error(y_test, y_pred_test)\n",
    "print(f\"MAE = {mae:.2f}\")"
   ]
  },
  {
   "cell_type": "markdown",
   "id": "04d6882d",
   "metadata": {},
   "source": [
    "Высокая ошибка на тесте = переобучились  \n",
    "Будем выбирать ту модель, которая на тесте показывает наименьшую ошибку"
   ]
  },
  {
   "cell_type": "markdown",
   "id": "d7e088e6",
   "metadata": {},
   "source": [
    "### Cross Validation для подбора гиперпараметров и выбора лучших моделей"
   ]
  },
  {
   "cell_type": "markdown",
   "id": "7f433f0e",
   "metadata": {},
   "source": [
    "![](https://scikit-learn.org/stable/_images/grid_search_cross_validation.png)"
   ]
  },
  {
   "cell_type": "markdown",
   "id": "2c786f12",
   "metadata": {},
   "source": [
    "**Обратите внимание!**  \n",
    "Кросс валидацию проводят на тренировочном множестве"
   ]
  },
  {
   "cell_type": "code",
   "execution_count": null,
   "id": "6b671e40",
   "metadata": {},
   "outputs": [],
   "source": [
    "X = np.arange(-10, 10, 0.01)\n",
    "y = X ** 2 + X ** 4\n",
    "plt.plot(X, y);"
   ]
  },
  {
   "cell_type": "code",
   "execution_count": null,
   "id": "db6ffad5",
   "metadata": {},
   "outputs": [],
   "source": [
    "y_new = y + np.random.normal(0, 200, y.shape)\n",
    "plt.scatter(X, y_new, s=3);"
   ]
  },
  {
   "cell_type": "code",
   "execution_count": null,
   "id": "98262261",
   "metadata": {},
   "outputs": [],
   "source": [
    "X_train, X_test, y_train, y_test = train_test_split(X, y_new, test_size=0.2, random_state=17)"
   ]
  },
  {
   "cell_type": "code",
   "execution_count": null,
   "id": "f210d862",
   "metadata": {},
   "outputs": [],
   "source": [
    "from sklearn.model_selection import cross_val_score\n",
    "\n",
    "\n",
    "cross_val_score(SGDRegressor(), X_train.reshape(-1, 1), y_train, scoring='neg_mean_absolute_error')"
   ]
  },
  {
   "cell_type": "code",
   "execution_count": null,
   "id": "fadf6647",
   "metadata": {
    "scrolled": false
   },
   "outputs": [],
   "source": [
    "from sklearn.linear_model import Lasso\n",
    "\n",
    "\n",
    "powers = range(1, 8)\n",
    "for power in powers:\n",
    "    X_power = PolynomialFeatures(degree=power).fit_transform(X_train.reshape(-1, 1))\n",
    "    estimator = SGDRegressor()\n",
    "    cv_scores = cross_val_score(estimator, X_power, y_train, scoring='neg_mean_absolute_error')\n",
    "    print(f\"Power = {power:2}, CV negative-MAE = {cv_scores.mean():.2f}\")\n",
    "    \n",
    "    cv_scores = cross_val_score(Lasso(max_iter=50000), X_power, y_train, scoring='neg_mean_absolute_error')\n",
    "    print(f\"Lasso  --  Power = {power:2}, CV negative-MAE = {cv_scores.mean():.2f}\")"
   ]
  },
  {
   "cell_type": "code",
   "execution_count": null,
   "id": "bf78588c",
   "metadata": {},
   "outputs": [],
   "source": [
    "best_estimator = Lasso(max_iter=50000)\n",
    "X_power = PolynomialFeatures(degree=4).fit_transform(X_train.reshape(-1, 1))\n",
    "best_estimator.fit(X_power, y_train)"
   ]
  },
  {
   "cell_type": "code",
   "execution_count": null,
   "id": "47448bf4",
   "metadata": {},
   "outputs": [],
   "source": [
    "y_pred_test = best_estimator.predict(PolynomialFeatures(degree=4).fit_transform(X_test.reshape(-1, 1)))\n",
    "\n",
    "plt.scatter(X_test, y_test, alpha=0.5, label='true')\n",
    "plt.scatter(X_test, y_pred_test, alpha=0.5, label='predict')\n",
    "plt.legend();"
   ]
  },
  {
   "cell_type": "markdown",
   "id": "3af6df43",
   "metadata": {},
   "source": [
    "### 2.2.2 Регуляризация"
   ]
  },
  {
   "cell_type": "markdown",
   "id": "08b68d05",
   "metadata": {},
   "source": [
    "![](https://camo.githubusercontent.com/c6bad12af0242455193151eed8482efc3645188c78d37636c1d41eb9c58d1d10/68747470733a2f2f6d69726f2e6d656469756d2e636f6d2f6d61782f3535302f312a2d4c79646851454479672d347979356847456a3577412e706e67)"
   ]
  },
  {
   "cell_type": "code",
   "execution_count": null,
   "id": "c9257d4f",
   "metadata": {},
   "outputs": [],
   "source": [
    "from sklearn.linear_model import Ridge, Lasso\n",
    "\n",
    "\n",
    "X_power = PolynomialFeatures(degree=15).fit_transform(X_train.reshape(-1, 1))\n",
    "X_power_test = PolynomialFeatures(degree=15).fit_transform(X_test.reshape(-1, 1))\n",
    "\n",
    "lasso = Lasso(max_iter=500000)\n",
    "lasso.fit(X_power, y_train)\n",
    "lasso_predict = lasso.predict(X_power_test)\n",
    "\n",
    "ridge = Ridge(max_iter=500000)\n",
    "ridge.fit(X_power, y_train)\n",
    "ridge_predict = ridge.predict(X_power_test)\n",
    "\n",
    "\n",
    "plt.scatter(X_test, lasso_predict, alpha=0.5, label='Lasso')\n",
    "plt.scatter(X_test, ridge_predict, alpha=0.5, label='Ridge')\n",
    "plt.legend();"
   ]
  },
  {
   "cell_type": "code",
   "execution_count": null,
   "id": "54117a5e",
   "metadata": {},
   "outputs": [],
   "source": [
    "lasso.coef_"
   ]
  },
  {
   "cell_type": "code",
   "execution_count": null,
   "id": "1e0e0140",
   "metadata": {},
   "outputs": [],
   "source": [
    "ridge.coef_"
   ]
  },
  {
   "cell_type": "markdown",
   "id": "7b866861",
   "metadata": {},
   "source": [
    "L1 зануляет веса, L2 не зануляет"
   ]
  },
  {
   "cell_type": "markdown",
   "id": "ae98519c",
   "metadata": {},
   "source": [
    "![](https://www.researchgate.net/publication/281210149/figure/fig3/AS:668932620967964@1536497373944/a-The-L1-loss-function-blue-square-in-relationship-to-the-minimal-achievable-loss-b.png)"
   ]
  },
  {
   "cell_type": "markdown",
   "id": "64955862",
   "metadata": {},
   "source": [
    "### 2.2.3 Упростить модель"
   ]
  },
  {
   "cell_type": "markdown",
   "id": "3375b2fd",
   "metadata": {},
   "source": [
    "# 2.3 Как бороться с недообученностью (underfitting)?\n",
    "1. Увеличивать количество итераций, чтобы градиентный спуск достиг минимума\n",
    "2. Усложнять модель"
   ]
  },
  {
   "cell_type": "markdown",
   "id": "52e67818",
   "metadata": {},
   "source": [
    "# 3. Предобработка признаков"
   ]
  },
  {
   "cell_type": "markdown",
   "id": "7acbd187",
   "metadata": {},
   "source": [
    "## 3.1 Числовые переменные"
   ]
  },
  {
   "cell_type": "markdown",
   "id": "4404fbff",
   "metadata": {},
   "source": [
    "### 3.1.1 Логарифмирование (либо применение других функций)"
   ]
  },
  {
   "cell_type": "code",
   "execution_count": null,
   "id": "6fff1448",
   "metadata": {},
   "outputs": [],
   "source": [
    "DATA_URL = \"https://raw.githubusercontent.com/stedy/Machine-Learning-with-R-datasets/master/insurance.csv\"\n",
    "data = pd.read_csv(DATA_URL)"
   ]
  },
  {
   "cell_type": "code",
   "execution_count": null,
   "id": "d55283d7",
   "metadata": {},
   "outputs": [],
   "source": [
    "data.head()"
   ]
  },
  {
   "cell_type": "code",
   "execution_count": null,
   "id": "36ad8b00",
   "metadata": {},
   "outputs": [],
   "source": [
    "data['charges'].hist();"
   ]
  },
  {
   "cell_type": "code",
   "execution_count": null,
   "id": "133f3063",
   "metadata": {},
   "outputs": [],
   "source": [
    "data['charges_log'] = np.log(data['charges'])\n",
    "data['charges_log'].hist();"
   ]
  },
  {
   "cell_type": "markdown",
   "id": "ed7c4f79",
   "metadata": {},
   "source": [
    "### 3.1.2 Масштабирование"
   ]
  },
  {
   "cell_type": "markdown",
   "id": "cc434f2c",
   "metadata": {},
   "source": [
    "MinMaxScaler\n",
    "![](http://androidkt.com/wp-content/uploads/2020/10/Selection_060.png)  \n",
    "---\n",
    "StandartScaler\n",
    "![](https://cdn-images-1.medium.com/max/370/1*Nlgc_wq2b-VfdawWX9MLWA.png)"
   ]
  },
  {
   "cell_type": "code",
   "execution_count": null,
   "id": "da1a78da",
   "metadata": {},
   "outputs": [],
   "source": [
    "from sklearn.preprocessing import StandardScaler, MinMaxScaler\n",
    "\n",
    "\n",
    "standart_scaled = StandardScaler().fit_transform(data['bmi'].values.reshape(-1, 1))\n",
    "minmax_scaled = MinMaxScaler().fit_transform(data['bmi'].values.reshape(-1, 1))"
   ]
  },
  {
   "cell_type": "code",
   "execution_count": null,
   "id": "e741c6ed",
   "metadata": {},
   "outputs": [],
   "source": [
    "fig, axes = plt.subplots(ncols=3, figsize=(12, 3))\n",
    "\n",
    "axes[0].scatter(range(len(standart_scaled)), data['bmi'].values.reshape(-1, 1))\n",
    "axes[0].set_title(\"Original\")\n",
    "\n",
    "axes[1].scatter(range(len(standart_scaled)), standart_scaled)\n",
    "axes[1].set_title(\"Standart scale\")\n",
    "\n",
    "axes[2].scatter(range(len(standart_scaled)), minmax_scaled)\n",
    "axes[2].set_title(\"MinMax scale\");"
   ]
  },
  {
   "cell_type": "code",
   "execution_count": null,
   "id": "83f52f8e",
   "metadata": {},
   "outputs": [],
   "source": [
    "from sklearn.preprocessing import QuantileTransformer"
   ]
  },
  {
   "cell_type": "code",
   "execution_count": null,
   "id": "0d0bacc2",
   "metadata": {},
   "outputs": [],
   "source": [
    "quantiles = QuantileTransformer().fit_transform(data['bmi'].values.reshape(-1, 1))"
   ]
  },
  {
   "cell_type": "code",
   "execution_count": null,
   "id": "1fcf53ee",
   "metadata": {},
   "outputs": [],
   "source": [
    "plt.scatter(range(len(standart_scaled)), quantiles);"
   ]
  },
  {
   "cell_type": "code",
   "execution_count": null,
   "id": "b080f8ed",
   "metadata": {},
   "outputs": [],
   "source": [
    "plt.hist(data['bmi']);"
   ]
  },
  {
   "cell_type": "code",
   "execution_count": null,
   "id": "935ac872",
   "metadata": {},
   "outputs": [],
   "source": [
    "plt.hist(quantiles);"
   ]
  },
  {
   "cell_type": "markdown",
   "id": "36afdd1f",
   "metadata": {},
   "source": [
    "## 3.2 Категориальные признаки"
   ]
  },
  {
   "cell_type": "markdown",
   "id": "b85806b5",
   "metadata": {},
   "source": [
    "### 3.2.1 Label Encoder"
   ]
  },
  {
   "cell_type": "code",
   "execution_count": null,
   "id": "a085c0e4",
   "metadata": {},
   "outputs": [],
   "source": [
    "from sklearn.preprocessing import LabelEncoder\n",
    "\n",
    "\n",
    "data['sex_LE'] = LabelEncoder().fit_transform(data['sex'])\n",
    "data['smoker_LE'] = LabelEncoder().fit_transform(data['smoker'])\n",
    "data['region_LE'] = LabelEncoder().fit_transform(data['region'])"
   ]
  },
  {
   "cell_type": "code",
   "execution_count": null,
   "id": "f67a244b",
   "metadata": {},
   "outputs": [],
   "source": [
    "data.head()"
   ]
  },
  {
   "cell_type": "code",
   "execution_count": null,
   "id": "a9899bd0",
   "metadata": {},
   "outputs": [],
   "source": [
    "data['sex'].hist();"
   ]
  },
  {
   "cell_type": "code",
   "execution_count": null,
   "id": "ec7ac959",
   "metadata": {},
   "outputs": [],
   "source": [
    "data['region'].hist();"
   ]
  },
  {
   "cell_type": "markdown",
   "id": "9d4d3e58",
   "metadata": {},
   "source": [
    "### 3.2.2 One Hot Encoding"
   ]
  },
  {
   "cell_type": "markdown",
   "id": "27c675c3",
   "metadata": {},
   "source": [
    "![](https://datagy.io/wp-content/uploads/2022/01/One-Hot-Encoding-for-Scikit-Learn-in-Python-Explained-1024x576.png)"
   ]
  },
  {
   "cell_type": "code",
   "execution_count": null,
   "id": "f132d2fb",
   "metadata": {},
   "outputs": [],
   "source": [
    "from sklearn.preprocessing import OneHotEncoder\n",
    "\n",
    "\n",
    "sparsed_matrix = OneHotEncoder().fit_transform(data['region'].values.reshape(-1, 1))\n",
    "sparsed_matrix.toarray()"
   ]
  },
  {
   "cell_type": "code",
   "execution_count": null,
   "id": "dd293ed0",
   "metadata": {},
   "outputs": [],
   "source": [
    "dummy_data = pd.get_dummies(data[['sex', 'smoker', 'region']])\n",
    "dummy_data.head()"
   ]
  },
  {
   "cell_type": "markdown",
   "id": "92dca795",
   "metadata": {},
   "source": [
    "### 3.2.3 Стараться в информативность кодирования"
   ]
  },
  {
   "cell_type": "code",
   "execution_count": null,
   "id": "d237ed85",
   "metadata": {},
   "outputs": [],
   "source": [
    "data.groupby(['region']).mean()['charges_log'].to_dict()"
   ]
  },
  {
   "cell_type": "code",
   "execution_count": null,
   "id": "b615490f",
   "metadata": {},
   "outputs": [],
   "source": [
    "data['region_encoded'] = data['region'].replace(data.groupby(['region']).mean()['charges_log'].to_dict())"
   ]
  },
  {
   "cell_type": "code",
   "execution_count": null,
   "id": "203b1ea6",
   "metadata": {},
   "outputs": [],
   "source": [
    "data.head()"
   ]
  },
  {
   "cell_type": "markdown",
   "id": "2df59a24",
   "metadata": {},
   "source": [
    "Для классификации можно вставлять величины, основанные на вероятностях события при данном классе  \n",
    "Например WoE  \n",
    "![](data:image/png;base64,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)"
   ]
  },
  {
   "cell_type": "markdown",
   "id": "2ca6deae",
   "metadata": {},
   "source": [
    "# 4. Работа с пропущенными значениями"
   ]
  },
  {
   "cell_type": "markdown",
   "id": "f1c444f9",
   "metadata": {},
   "source": [
    "## 4.1 Выкинуть наблюдения с прощенными значениями"
   ]
  },
  {
   "cell_type": "code",
   "execution_count": null,
   "id": "9b678a4d",
   "metadata": {},
   "outputs": [],
   "source": [
    "data.dropna(how='any')"
   ]
  },
  {
   "cell_type": "markdown",
   "id": "be3fac4a",
   "metadata": {},
   "source": [
    "## 4.2 Замена на что-либо\n",
    "На что заменяют:\n",
    "- Мода\n",
    "- Среднее\n",
    "- Максимум\n",
    "- Минимум\n",
    "- Отдельная категория вроде \"Unknown\" (для категориальных)"
   ]
  },
  {
   "cell_type": "code",
   "execution_count": null,
   "id": "528cfc34",
   "metadata": {},
   "outputs": [],
   "source": [
    "data.fillna({\"age\": np.mean(data['age']), \n",
    "             \"bmi\": np.max(data['bmi']), \n",
    "             \"smoker\": \"unknown\", \n",
    "             \"region\": data['region'].mode().values[0]})"
   ]
  }
 ],
 "metadata": {
  "kernelspec": {
   "display_name": "Python 3 (ipykernel)",
   "language": "python",
   "name": "python3"
  },
  "language_info": {
   "codemirror_mode": {
    "name": "ipython",
    "version": 3
   },
   "file_extension": ".py",
   "mimetype": "text/x-python",
   "name": "python",
   "nbconvert_exporter": "python",
   "pygments_lexer": "ipython3",
   "version": "3.9.13"
  }
 },
 "nbformat": 4,
 "nbformat_minor": 5
}
